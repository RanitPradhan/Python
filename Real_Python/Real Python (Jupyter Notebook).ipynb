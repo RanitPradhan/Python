{
 "cells": [
  {
   "cell_type": "code",
   "execution_count": 22,
   "metadata": {},
   "outputs": [
    {
     "name": "stdout",
     "output_type": "stream",
     "text": [
      "Hello World\n"
     ]
    }
   ],
   "source": [
    "print (\"Hello World\")"
   ]
  },
  {
   "cell_type": "markdown",
   "metadata": {},
   "source": [
    "# Menu Items\n",
    "* **x** - bhjuhhg  \n",
    "\n",
    "# Markdown Heading\n",
    "## Sub-Heading\n",
    "### Small-Heading"
   ]
  },
  {
   "cell_type": "markdown",
   "metadata": {},
   "source": [
    "Paragraphs are seperated by a blank line.\n",
    "\n",
    "Two spaces at the end of a line break."
   ]
  },
  {
   "cell_type": "markdown",
   "metadata": {},
   "source": [
    "Text attributes _italic_,**bold**,`monospace`.\n",
    "\n",
    "```python\n",
    "#code block with syntax highlighting\n",
    "print(\"hello jupyter\")\n",
    "```\n"
   ]
  },
  {
   "cell_type": "code",
   "execution_count": 16,
   "metadata": {},
   "outputs": [],
   "source": [
    "a = 1 + 2"
   ]
  },
  {
   "cell_type": "markdown",
   "metadata": {},
   "source": [
    "Horizontal rule:\n",
    "    ---\n",
    "    \n",
    "Bullet list:\n",
    "    * apples\n",
    "    * oranges\n",
    "    * pears\n",
    "    \n",
    "Numbered list:\n",
    "    1. wash\n",
    "    2. rinse\n",
    "    3. repeat"
   ]
  },
  {
   "cell_type": "code",
   "execution_count": 17,
   "metadata": {},
   "outputs": [
    {
     "data": {
      "text/plain": [
       "3"
      ]
     },
     "execution_count": 17,
     "metadata": {},
     "output_type": "execute_result"
    }
   ],
   "source": [
    "a"
   ]
  },
  {
   "cell_type": "markdown",
   "metadata": {},
   "source": [
    "A [link](https://www.aiimsexams.org/index.html).  \n",
    "\n",
    "Image: ![Jupyter Logo](Jupyter.png)\n",
    "    "
   ]
  },
  {
   "cell_type": "markdown",
   "metadata": {},
   "source": [
    "> Markdown use email-style `>`characters for blockquoting.\n",
    "\n",
    "Inline <abbr title=\"Hypertext Markup Language\">HTML </abbr> is supported."
   ]
  },
  {
   "cell_type": "markdown",
   "metadata": {},
   "source": []
  }
 ],
 "metadata": {
  "kernelspec": {
   "display_name": "Python 3",
   "language": "python",
   "name": "python3"
  },
  "language_info": {
   "codemirror_mode": {
    "name": "ipython",
    "version": 3
   },
   "file_extension": ".py",
   "mimetype": "text/x-python",
   "name": "python",
   "nbconvert_exporter": "python",
   "pygments_lexer": "ipython3",
   "version": "3.7.4"
  }
 },
 "nbformat": 4,
 "nbformat_minor": 4
}
